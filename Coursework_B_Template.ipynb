{
 "cells": [
  {
   "cell_type": "markdown",
   "metadata": {},
   "source": [
    "# This is the template for coursework B - Add a suitable title"
   ]
  },
  {
   "cell_type": "markdown",
   "metadata": {},
   "source": [
    "Student number: Your Student number here, will be marked anonymously\n",
    "\n",
    "This Coursework contributes <b>80%</b> to your overall unit mark."
   ]
  },
  {
   "cell_type": "markdown",
   "metadata": {},
   "source": [
    "### Abstract: \n",
    "\n",
    "Here, give an overview of your work, make sure to describe the science background, methods, results as well as comparisons to literature data. Keep short, not to exceed 250 words."
   ]
  },
  {
   "cell_type": "markdown",
   "metadata": {},
   "source": [
    "#### Imports: give all your imports in a box here. Any custom code you have stored in a .py file needs to be submitted with your coursework. You can freely use all code provided to you as part of this course. If you use code not encountered in the course, give a link to the online repo."
   ]
  },
  {
   "cell_type": "code",
   "execution_count": null,
   "metadata": {},
   "outputs": [],
   "source": [
    "import numpy\n",
    "#.... and so on....\n",
    "import myexostuff"
   ]
  },
  {
   "cell_type": "markdown",
   "metadata": {},
   "source": [
    "### 1. Introduction:\n",
    "\n",
    "Give an introduction to your coursework. This should be a short description of exoplanets as well as a description of background relevant to your Discussion.\n",
    "\n",
    "Your introduction should be understandable to a student having taken Intro to astro and Planets & Exoplanets. \n",
    "\n",
    "Guidline word limit: 300-500 words"
   ]
  },
  {
   "cell_type": "markdown",
   "metadata": {},
   "source": [
    "### 2. Results - Modelling of Kepler lightcurve\n",
    "\n",
    "$\\bullet$ describe fitting of transit depths and present results with errors\n",
    "\n",
    "$\\bullet$ describe periodogram and identification of periodic features in lightcurves\n",
    "\n",
    "$\\bullet$ describe motivation for any additional fitting you have done\n",
    "\n",
    "$\\bullet$ include code for all modelling in attached code or inline, describe limitations and assumptions made"
   ]
  },
  {
   "cell_type": "markdown",
   "metadata": {},
   "source": [
    "### 3. Discussion\n",
    "\n",
    "$\\bullet$ present comparison of your results with data, including statistical analyis and clear figures. \n",
    "\n",
    "$\\bullet$ limit yourself in the presentation of results, focus on fewer results that are described well, rather than presenting many figures without clear context\n",
    "\n",
    "$\\bullet$ Include a short (up to 200 word) description of a follow-up observations that would address an open question in your report.\n"
   ]
  },
  {
   "cell_type": "markdown",
   "metadata": {},
   "source": [
    "### 4. Summary\n",
    "\n",
    "$\\bullet$ summarize your results in a bullet point format. Not to exceed 300 words."
   ]
  },
  {
   "cell_type": "markdown",
   "metadata": {},
   "source": [
    "### References:\n",
    "\n",
    "Give all references here. Use Astronomy style references, e.g.\n",
    "- Miller & Jones, 2018, ApJ, 00, 000\n",
    "- Smith et al. 2019, MNRAS, 00, 000\n",
    "- Willow 1972, AJ, 00, 000\n",
    "\n",
    "And cite these in the text as \"Miller & Jones (2018) showed that all exoplanets are made of cheese, however, Smith et al. (2019) showed Trappist1b is made of chocolate, as previously suggested in the literature (Willow 1972).\" "
   ]
  },
  {
   "cell_type": "code",
   "execution_count": null,
   "metadata": {},
   "outputs": [],
   "source": []
  }
 ],
 "metadata": {
  "kernelspec": {
   "display_name": "Python 3",
   "language": "python",
   "name": "python3"
  },
  "language_info": {
   "codemirror_mode": {
    "name": "ipython",
    "version": 3
   },
   "file_extension": ".py",
   "mimetype": "text/x-python",
   "name": "python",
   "nbconvert_exporter": "python",
   "pygments_lexer": "ipython3",
   "version": "3.6.12"
  }
 },
 "nbformat": 4,
 "nbformat_minor": 2
}
